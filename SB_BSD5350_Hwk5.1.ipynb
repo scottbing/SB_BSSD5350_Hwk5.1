{
 "cells": [
  {
   "cell_type": "markdown",
   "id": "atlantic-intersection",
   "metadata": {},
   "source": [
    "### BSSD5350 Scott Bing - Homework #5.1 Using PYWidgets"
   ]
  },
  {
   "cell_type": "code",
   "execution_count": 1,
   "id": "hindu-syndrome",
   "metadata": {},
   "outputs": [],
   "source": [
    "from ipywidgets import widgets"
   ]
  },
  {
   "cell_type": "code",
   "execution_count": 2,
   "id": "patient-scott",
   "metadata": {
    "scrolled": true
   },
   "outputs": [
    {
     "name": "stderr",
     "output_type": "stream",
     "text": [
      "Enabling notebook extension jupyter-js-widgets/extension...\n",
      "      - Validating: ok\n"
     ]
    }
   ],
   "source": [
    "!jupyter nbextension enable --py widgetsnbextension"
   ]
  },
  {
   "cell_type": "markdown",
   "id": "psychological-worry",
   "metadata": {},
   "source": [
    "### Simple Calculator - labels, text boxes , and buttons"
   ]
  },
  {
   "cell_type": "code",
   "execution_count": 9,
   "id": "ignored-winter",
   "metadata": {},
   "outputs": [
    {
     "data": {
      "application/vnd.jupyter.widget-view+json": {
       "model_id": "0818e4dd647f497bb7516e88e59b6c32",
       "version_major": 2,
       "version_minor": 0
      },
      "text/plain": [
       "Label(value='Enter a number')"
      ]
     },
     "metadata": {},
     "output_type": "display_data"
    },
    {
     "data": {
      "application/vnd.jupyter.widget-view+json": {
       "model_id": "61a45d777faa4385b30e58d71722b162",
       "version_major": 2,
       "version_minor": 0
      },
      "text/plain": [
       "Text(value='')"
      ]
     },
     "metadata": {},
     "output_type": "display_data"
    },
    {
     "data": {
      "application/vnd.jupyter.widget-view+json": {
       "model_id": "62b9dfd0a6004eeaa57245f60b20bcac",
       "version_major": 2,
       "version_minor": 0
      },
      "text/plain": [
       "Label(value='Enter a number')"
      ]
     },
     "metadata": {},
     "output_type": "display_data"
    },
    {
     "data": {
      "application/vnd.jupyter.widget-view+json": {
       "model_id": "48de231d23b94a879f14516672acb62f",
       "version_major": 2,
       "version_minor": 0
      },
      "text/plain": [
       "Text(value='')"
      ]
     },
     "metadata": {},
     "output_type": "display_data"
    },
    {
     "data": {
      "application/vnd.jupyter.widget-view+json": {
       "model_id": "2e8ba3b934a74e2397a7420174c98113",
       "version_major": 2,
       "version_minor": 0
      },
      "text/plain": [
       "Button(description='add', style=ButtonStyle())"
      ]
     },
     "metadata": {},
     "output_type": "display_data"
    },
    {
     "data": {
      "application/vnd.jupyter.widget-view+json": {
       "model_id": "f8b6a093aada404a8f3b72f9e9011013",
       "version_major": 2,
       "version_minor": 0
      },
      "text/plain": [
       "Label(value='')"
      ]
     },
     "metadata": {},
     "output_type": "display_data"
    }
   ],
   "source": [
    "lbl1=widgets.Label('Enter a number') \n",
    "display(lbl1)\n",
    "text1=widgets.Text() \n",
    "display(text1)\n",
    "lbl2=widgets.Label('Enter a number') \n",
    "display(lbl2)\n",
    "text2=widgets.Text() \n",
    "display(text2)\n",
    "btn=widgets.Button(description=\"add\")\n",
    "display(btn)\n",
    "lbl3=widgets. Label() \n",
    "display(lbl3)\n",
    "def add(b):\n",
    "    x=int(text1.value)\n",
    "    y=int(text2.value)\n",
    "    lbl3.value='result= '+str(x+y)\n",
    "btn.on_click(add)"
   ]
  },
  {
   "cell_type": "markdown",
   "id": "hispanic-sunrise",
   "metadata": {},
   "source": [
    "### Slider"
   ]
  },
  {
   "cell_type": "code",
   "execution_count": 4,
   "id": "settled-remove",
   "metadata": {},
   "outputs": [
    {
     "data": {
      "application/vnd.jupyter.widget-view+json": {
       "model_id": "230192073a30471d933856c90d4329e4",
       "version_major": 2,
       "version_minor": 0
      },
      "text/plain": [
       "IntSlider(value=0, continuous_update=False, description='Test:', max=10)"
      ]
     },
     "metadata": {},
     "output_type": "display_data"
    }
   ],
   "source": [
    "### Simple Slider\n",
    "widgets.IntSlider(\n",
    "    value=0,\n",
    "    min=0,\n",
    "    max=10,\n",
    "    step=1,\n",
    "    description='Test:',\n",
    "    disabled=False,\n",
    "    continuous_update=False,\n",
    "    orientation='horizontal',\n",
    "    readout=True,\n",
    "    readout_format='d'\n",
    ")"
   ]
  },
  {
   "cell_type": "markdown",
   "id": "competent-greek",
   "metadata": {},
   "source": [
    "### Dropdown"
   ]
  },
  {
   "cell_type": "code",
   "execution_count": 5,
   "id": "handed-mechanism",
   "metadata": {},
   "outputs": [
    {
     "data": {
      "application/vnd.jupyter.widget-view+json": {
       "model_id": "64952636f1c742109dbcb0060ab57ed1",
       "version_major": 2,
       "version_minor": 0
      },
      "text/plain": [
       "Dropdown(description='Number:', index=1, options=(('Nissan', 1), ('Toyota', 2), ('Honda', 3)), value=2)"
      ]
     },
     "metadata": {},
     "output_type": "display_data"
    }
   ],
   "source": [
    "widgets.Dropdown(\n",
    "    options=[('Nissan', 1), ('Toyota', 2), ('Honda', 3)],\n",
    "    value=2,\n",
    "    description='Number:',\n",
    ")"
   ]
  },
  {
   "cell_type": "markdown",
   "id": "responsible-bradford",
   "metadata": {},
   "source": [
    "### Trying additional widgets"
   ]
  },
  {
   "cell_type": "markdown",
   "id": "beautiful-floor",
   "metadata": {},
   "source": [
    "### Bound integer"
   ]
  },
  {
   "cell_type": "code",
   "execution_count": 6,
   "id": "closed-planet",
   "metadata": {},
   "outputs": [
    {
     "data": {
      "application/vnd.jupyter.widget-view+json": {
       "model_id": "b4a29f3243ed4c30a47ced70e26207a2",
       "version_major": 2,
       "version_minor": 0
      },
      "text/plain": [
       "BoundedIntText(value=0, description='Number1:', max=10)"
      ]
     },
     "metadata": {},
     "output_type": "display_data"
    }
   ],
   "source": [
    "widgets.BoundedIntText(\n",
    "    value=0,\n",
    "    min=0,\n",
    "    max=10,\n",
    "    step=1,\n",
    "    description='Number1:',\n",
    "    disabled=False\n",
    ")"
   ]
  },
  {
   "cell_type": "markdown",
   "id": "flexible-boulder",
   "metadata": {},
   "source": [
    "### Checkbox"
   ]
  },
  {
   "cell_type": "code",
   "execution_count": 7,
   "id": "ruled-artwork",
   "metadata": {},
   "outputs": [
    {
     "data": {
      "application/vnd.jupyter.widget-view+json": {
       "model_id": "5e862a99197a42bbbb8a5f0dd335cd7f",
       "version_major": 2,
       "version_minor": 0
      },
      "text/plain": [
       "Checkbox(value=False, description='Check me', indent=False)"
      ]
     },
     "metadata": {},
     "output_type": "display_data"
    }
   ],
   "source": [
    "widgets.Checkbox(\n",
    "    value=False,\n",
    "    description='Check me',\n",
    "    disabled=False,\n",
    "    indent=False\n",
    ")"
   ]
  },
  {
   "cell_type": "markdown",
   "id": "arabic-cloud",
   "metadata": {},
   "source": [
    "### Radio Buttons"
   ]
  },
  {
   "cell_type": "code",
   "execution_count": 8,
   "id": "amateur-prevention",
   "metadata": {},
   "outputs": [
    {
     "data": {
      "application/vnd.jupyter.widget-view+json": {
       "model_id": "d90e24b289714d8085def98228098995",
       "version_major": 2,
       "version_minor": 0
      },
      "text/plain": [
       "RadioButtons(description='Pizza topping:', options=('pepperoni', 'pineapple', 'anchovies'), value='pepperoni')"
      ]
     },
     "metadata": {},
     "output_type": "display_data"
    }
   ],
   "source": [
    "widgets.RadioButtons(\n",
    "    options=['pepperoni', 'pineapple', 'anchovies'],\n",
    "#    value='pineapple', # Defaults to 'pineapple'\n",
    "#    layout={'width': 'max-content'}, # If the items' names are long\n",
    "    description='Pizza topping:',\n",
    "    disabled=False\n",
    ")"
   ]
  }
 ],
 "metadata": {
  "kernelspec": {
   "display_name": "Python 3",
   "language": "python",
   "name": "python3"
  },
  "language_info": {
   "codemirror_mode": {
    "name": "ipython",
    "version": 3
   },
   "file_extension": ".py",
   "mimetype": "text/x-python",
   "name": "python",
   "nbconvert_exporter": "python",
   "pygments_lexer": "ipython3",
   "version": "3.7.9"
  },
  "varInspector": {
   "cols": {
    "lenName": 16,
    "lenType": 16,
    "lenVar": 40
   },
   "kernels_config": {
    "python": {
     "delete_cmd_postfix": "",
     "delete_cmd_prefix": "del ",
     "library": "var_list.py",
     "varRefreshCmd": "print(var_dic_list())"
    },
    "r": {
     "delete_cmd_postfix": ") ",
     "delete_cmd_prefix": "rm(",
     "library": "var_list.r",
     "varRefreshCmd": "cat(var_dic_list()) "
    }
   },
   "types_to_exclude": [
    "module",
    "function",
    "builtin_function_or_method",
    "instance",
    "_Feature"
   ],
   "window_display": false
  }
 },
 "nbformat": 4,
 "nbformat_minor": 5
}
